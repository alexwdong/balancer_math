{
 "cells": [
  {
   "cell_type": "markdown",
   "id": "10163f5f-3cef-4e26-b445-91cbe76eaa4a",
   "metadata": {},
   "source": [
    "Basics:\n",
    "\n",
    "Balancer Invariant Equation:\n",
    "    $$K = \\Pi_{j=1}^n B_j^{W_j}$$\n",
    "where\n",
    "* $K$: The Invariant Constant \n",
    "* $j$: Index of token\n",
    "* $n$: Number of tokens\n",
    "* $B_j$: Balance of token $j$\n",
    "* $N_j$: Normalized weight of token $j$\n",
    "\n",
    "\n",
    "Spot Price Equation:\n",
    "$SP_i^o = \\frac{\\frac{B_i}{W_i}}{\\frac{B_o}{W_o}}$\n",
    "\n",
    "* $B_i$: Balance of token going <u>into</u> the pool\n",
    "* $B_o$: Balance of token coming <u>out</u> of the pool\n",
    "* $N_i$: Normalized weight of token going into the pool\n",
    "* $N_o$: Normalized weight of token coming out of the pool\n",
    "\n",
    "\n"
   ]
  },
  {
   "cell_type": "markdown",
   "id": "998b1bb6-671f-4676-abde-49afef175234",
   "metadata": {},
   "source": []
  },
  {
   "cell_type": "markdown",
   "id": "298cd42a-3ae7-4009-b02a-0476c54a94f4",
   "metadata": {},
   "source": []
  },
  {
   "cell_type": "code",
   "execution_count": 2,
   "id": "431d3eab-97cb-455a-9caa-401b1a1d4bf4",
   "metadata": {},
   "outputs": [
    {
     "ename": "NameError",
     "evalue": "name 'Example' is not defined",
     "output_type": "error",
     "traceback": [
      "\u001b[0;31m---------------------------------------------------------------------------\u001b[0m",
      "\u001b[0;31mNameError\u001b[0m                                 Traceback (most recent call last)",
      "\u001b[0;32m<ipython-input-2-ec41f0e2636b>\u001b[0m in \u001b[0;36m<module>\u001b[0;34m\u001b[0m\n\u001b[0;32m----> 1\u001b[0;31m \u001b[0mExample\u001b[0m\u001b[0;34m\u001b[0m\u001b[0;34m\u001b[0m\u001b[0m\n\u001b[0m",
      "\u001b[0;31mNameError\u001b[0m: name 'Example' is not defined"
     ]
    }
   ],
   "source": [
    "# Example"
   ]
  },
  {
   "cell_type": "markdown",
   "id": "889bc95b-58e3-4135-834d-e2675d844dbc",
   "metadata": {},
   "source": [
    "Ex:  Prices $1 BTC = \\$1000$, $1 ETH = \\$250$\n",
    "\n",
    "<u>Market price</u> of $ETH$ to $BTC$ is $4$. (Give $4 ETH$, get $1 BTC$).\n",
    "\n",
    "\n",
    "Suppose we hold $1000 BTC$ and $1000 ETH$ (To have an $80-20$ $BTC-ETH$ portfolio)\n",
    "\n",
    "Our weights are then $W_{BTC} = .8$, $W_{ETH} = .2$\n",
    "\n",
    "The <u>spot price</u> of $ETH$ to $BTC$ according to the balancer paper formula is \n",
    "\n",
    "\n",
    "$SP_{ETH}^{BTC} = \\frac{\\frac{B_{ETH}}{W_{ETH}}}{\\frac{B_{BTC}}{W_{BTC}}} = \\frac{\\frac{1000}{.2}}{\\frac{1000}{.8}} = 4$  (Give $4 ETH$, get $1 BTC$).\n",
    "\n",
    "In this situation, the market price and the spot price are in agreement.\n",
    "\n",
    "\n",
    "Suppose we adjust the weights of our portfolio to .5 and .5.\n",
    "\n",
    "Then the pool's spot price of ETH to BTC is \n",
    "\n",
    "$SP_{ETH}^{BTC} = \\frac{\\frac{B_{ETH}}{W_{ETH}}}{\\frac{B_{BTC}}{W_{BTC}}} = \\frac{\\frac{1000}{.5}}{\\frac{1000}{.5}} = 1$  (Give $1 ETH$, get $1 BTC$).\n",
    "\n",
    "\n",
    "As a response, the market will arbitrage by purchasing BTC from our pool until the pool's spot price returns to the market spot price (${SP_{MKT}}_{ETH}^{BTC} = 4$). The Balances of BTC and ETH held in the portfolio can be calculated by solving the following equations.\n",
    "\n",
    "${SP_{MKT}}_{ETH}^{BTC} = \\frac{{B_{ETH}}_{new}}{{B_{BTC}}_{new}}\\frac{W_{BTC}}{W_{ETH}}$ $~~~~~~~~$ (Spot price Equation)\n",
    "\n",
    "${B_{ETH}}_{new}^{W_{ETH}}{B_{BTC}}_{new}^{W_{BTC}} = {B_{ETH}}_{old}^{W_{ETH}}{B_{BTC}}_{old}^{W_{BTC}}$ $~~~~~~~~$ (Balancer Invariant Equation)\n",
    "\n",
    "\n",
    "We have two unknowns, ${B_{ETH}}_{new}$ and ${B_{BTC}}_{new}$. The rest of the variables are known --\n",
    " \n",
    "* ${SP_{MKT}}_{ETH}^{BTC} = 4$ Market Spot Price\n",
    "* $W_{BTC} = .5$ Weight of BTC Token\n",
    "* $W_{ETH} = .5$ Weight of ETH Token\n",
    "* ${B_{BTC}}_{old} = 1000$ Balance of BTC Token (pre-arbitrage)\n",
    "* ${B_{ETH}}_{old} = 1000$ Balance of ETH Token (pre-arbitrage)\n",
    "\n",
    "Plugging our values into these two equations we get:\n",
    "\n",
    "$4 =  \\frac{{B_{ETH}}_{new}}{{B_{BTC}}_{new}} \\frac{.5}{.5}$\n",
    "\n",
    "${B_{ETH}}_{new}^{.5}{B_{BTC}}_{new}^{.5} = 1000^{.5} 1000^{.5}$ \n",
    "\n",
    "Solving For ${B_{ETH}}_{new}$ in each equation gives\n",
    "\n",
    "${B_{ETH}}_{new} = 4 {B_{BTC}}_{new}$\n",
    "\n",
    "${B_{ETH}}_{new} = \\frac{10^6}{{B_{BTC}}_{new}} $\n",
    "\n",
    "We can then solve for ${B_{BTC}}_{new}$ to get ${B_{BTC}}_{new} = 500$ , and then plug in the result to get ${B_{ETH}}_{new} = 2000$"
   ]
  },
  {
   "cell_type": "markdown",
   "id": "2fb3b829-7a9f-4f26-b455-29239d18aed4",
   "metadata": {},
   "source": [
    "# General N-token Solution"
   ]
  },
  {
   "cell_type": "markdown",
   "id": "de622637-3e3a-4090-a2ec-ac526798b30d",
   "metadata": {},
   "source": [
    "Assume we have n tokens indexed $1,...,n$. \n",
    "\n",
    "Assume we have the initial balances of each token, represented by ${B_1}_{old},...,{B_n}_{old}$\n",
    "\n",
    "Assume we have the market spot prices from token $1$ to each of the other $n-1$ tokens. ${SP_{MKT}}_1^k$ for $k\\in 2,...,n$. \n",
    "\n",
    "Suppose we hold ${B_1}_{old},...,{B_n}_{old}$ balances of token $1$,...,token $n$ respectively.\n",
    "\n",
    "Suppose we set the weights of our portfolio to $W_1,...,W_n$ where $\\sum_{j=1}^n W_j = 1$. \n",
    "\n",
    "Let $C = \\Pi_{j=1}^n {B_j}_{old}^{W_j}$ be the invariant constant.\n",
    "\n",
    "Assume that the market spot price remains constant throughout the arbitrage. We will show that the new balances of each token in the portfolio are \n",
    "\n",
    "${B_1}_{new} = C\\cdot \\Pi_{j=2}^n ({SP_{MKT}}_1^j \\frac{W_j}{W_1})^{W_j}  $ \n",
    "\n",
    "\n",
    "and ${B_k}_{new} = \\frac{{B_1}_{new}}{{SP_{MKT}}_1^k} \\frac{W_1}{W_k}$ for $k \\in {2,...,n}$\n"
   ]
  },
  {
   "cell_type": "markdown",
   "id": "7b569e9f-fee2-43f3-a36e-261caa173a4d",
   "metadata": {},
   "source": [
    "# Proof"
   ]
  },
  {
   "cell_type": "markdown",
   "id": "5e60a668-5e4a-4857-a3eb-8952964e84f4",
   "metadata": {},
   "source": [
    "As in our example, we have a system of $n$ equations and $n$ unknowns.\n",
    "\n",
    "Explicity, We have $n-1$ market spot price equations, and $1$ invariant equation.\n",
    "\n",
    "${SP_{MKT}}_1^k = \\frac{{B_1}_{new}}{{B_2}_{new}} \\frac{W_1}{W_k}$ for $k \\in {2,...,n}$\n",
    "\n",
    "and\n",
    "\n",
    "$\\Pi_{j=1}^n {B_j}_{new}^{W_j} = \\Pi_{j=1}^n {B_j}_{old}^{W_j}$\n",
    "\n",
    "\n",
    "First, we can solve for B_k_new in the $n-1$ market spot price equations to get \n",
    "\n",
    "${B_k}_{new} = \\frac{{B_1}_{new}}{{SP_{MKT}}_1^k }\\frac{W_1}{W_k}$\n",
    "\n",
    "Notice that the only unknown in this family of equations is ${B_1}_{new}$.\n",
    "\n",
    "We now solve for ${B_1}_{new}$. Starting from the invariant equation, we get\n",
    "\n",
    "$\\Pi_{j=1}^n {B_j}_{new}^{W_j} = C$\n",
    "\n",
    "${B_1}_{new}^{W_1} = \\frac{C} {\\Pi_{j=2}^n {B_j}_{new}^{W_j}}$\n",
    "\n",
    "${B_1}_{new}^{W_1} = \\frac{C} {\\Pi_{j=2}^n (\\frac{{B_1}_{new}}{{SP_{MKT}}_1^j }\\frac{W_1}{W_j})^{W_j}}$\n",
    "\n",
    "${B_1}_{new}^{W_1} = \\frac{C \\cdot \\Pi_{j=2}^n ({SP_{MKT}}_1^j \\frac{W_j}{W_1})^{W_j}} { \\Pi_{j=2}^n {B_1}_{new}^{W_j}}  $\n",
    "\n",
    "${B_1}_{new}^{\\sum_{j=1}^n W_j} = C \\cdot \\Pi_{j=2}^n ({SP_{MKT}}_1^j \\frac{W_j}{W_1})^{W_j}  $ (Recall that #\\sum_{j=1}^n W_j = 1$ by construction)\n",
    "\n",
    "${B_1}_{new} = C\\cdot \\Pi_{j=2}^n ({SP_{MKT}}_1^j \\frac{W_j}{W_1})^{W_j}  $ \n"
   ]
  },
  {
   "cell_type": "code",
   "execution_count": null,
   "id": "d774659f-3d01-4e4b-a4f9-935ffe39b830",
   "metadata": {},
   "outputs": [],
   "source": []
  },
  {
   "cell_type": "code",
   "execution_count": null,
   "id": "b2838079-c0cf-456c-9a3b-1c22e522d58e",
   "metadata": {},
   "outputs": [],
   "source": []
  },
  {
   "cell_type": "code",
   "execution_count": null,
   "id": "5a40d3f0-4e45-406d-87f5-0a7144956ea2",
   "metadata": {},
   "outputs": [],
   "source": []
  },
  {
   "cell_type": "code",
   "execution_count": null,
   "id": "ad0997ff-984f-4b52-a846-60e56dd53392",
   "metadata": {},
   "outputs": [],
   "source": []
  },
  {
   "cell_type": "code",
   "execution_count": null,
   "id": "39c602ca-c82f-4d89-adda-ce151004781a",
   "metadata": {},
   "outputs": [],
   "source": []
  },
  {
   "cell_type": "code",
   "execution_count": null,
   "id": "908fbcc2-8fb0-4d65-b285-0446b8069c59",
   "metadata": {},
   "outputs": [],
   "source": []
  },
  {
   "cell_type": "code",
   "execution_count": null,
   "id": "b96879b2-0ac1-4173-a1ae-df76e1e469ec",
   "metadata": {},
   "outputs": [],
   "source": []
  },
  {
   "cell_type": "code",
   "execution_count": null,
   "id": "804e6d55-250e-4aaf-ba6c-3a6366f9cb09",
   "metadata": {},
   "outputs": [],
   "source": []
  },
  {
   "cell_type": "code",
   "execution_count": null,
   "id": "6e9ff2b8-9187-4389-8564-08c5510a515a",
   "metadata": {},
   "outputs": [],
   "source": []
  }
 ],
 "metadata": {
  "kernelspec": {
   "display_name": "Python 3",
   "language": "python",
   "name": "python3"
  },
  "language_info": {
   "codemirror_mode": {
    "name": "ipython",
    "version": 3
   },
   "file_extension": ".py",
   "mimetype": "text/x-python",
   "name": "python",
   "nbconvert_exporter": "python",
   "pygments_lexer": "ipython3",
   "version": "3.9.5"
  }
 },
 "nbformat": 4,
 "nbformat_minor": 5
}
