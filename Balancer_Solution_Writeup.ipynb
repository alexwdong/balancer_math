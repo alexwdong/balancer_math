{
 "cells": [
  {
   "cell_type": "markdown",
   "id": "40e075d7-2ac8-46ad-8681-fcb67fdea3da",
   "metadata": {},
   "source": [
    "# Basics: From the Balancer White Paper"
   ]
  },
  {
   "cell_type": "markdown",
   "id": "10163f5f-3cef-4e26-b445-91cbe76eaa4a",
   "metadata": {},
   "source": [
    "\n",
    "\n",
    "Balancer Invariant Equation:\n",
    "    $$K = \\Pi_{j=1}^n B_j^{W_j}$$\n",
    "where\n",
    "* $K$: The Invariant Constant \n",
    "* $j$: Index of token\n",
    "* $n$: Number of tokens\n",
    "* $B_j$: Balance of token $j$\n",
    "* $N_j$: Normalized weight of token $j$\n",
    "\n",
    "\n",
    "Spot Price Equation:\n",
    "$SP_i^o = \\frac{\\frac{B_i}{W_i}}{\\frac{B_o}{W_o}}$\n",
    "\n",
    "* $B_i$: Balance of token going <u>into</u> the pool\n",
    "* $B_o$: Balance of token coming <u>out</u> of the pool\n",
    "* $N_i$: Normalized weight of token going into the pool\n",
    "* $N_o$: Normalized weight of token coming out of the pool\n",
    "\n",
    "\n"
   ]
  },
  {
   "cell_type": "markdown",
   "id": "998b1bb6-671f-4676-abde-49afef175234",
   "metadata": {},
   "source": []
  },
  {
   "cell_type": "markdown",
   "id": "298cd42a-3ae7-4009-b02a-0476c54a94f4",
   "metadata": {},
   "source": []
  },
  {
   "cell_type": "markdown",
   "id": "4d648680-f89c-44d4-9e58-1c514932740a",
   "metadata": {},
   "source": [
    "# Example"
   ]
  },
  {
   "cell_type": "markdown",
   "id": "889bc95b-58e3-4135-834d-e2675d844dbc",
   "metadata": {},
   "source": [
    "Ex:  Prices $1 BTC = \\$1000$, $1 ETH = \\$250$\n",
    "\n",
    "<u>Market price</u> of $ETH$ to $BTC$ is $4$. (Give $4 ETH$, get $1 BTC$).\n",
    "\n",
    "\n",
    "Suppose we hold $1000 BTC$ and $1000 ETH$ (To have an $80-20$ $BTC-ETH$ portfolio)\n",
    "\n",
    "Our weights are then $W_{BTC} = .8$, $W_{ETH} = .2$\n",
    "\n",
    "The <u>spot price</u> of $ETH$ to $BTC$ according to the balancer paper formula is \n",
    "\n",
    "\n",
    "$SP_{ETH}^{BTC} = \\frac{\\frac{B_{ETH}}{W_{ETH}}}{\\frac{B_{BTC}}{W_{BTC}}} = \\frac{\\frac{1000}{.2}}{\\frac{1000}{.8}} = 4$  (Give $4 ETH$, get $1 BTC$).\n",
    "\n",
    "In this situation, the market price and the spot price are in agreement.\n",
    "\n",
    "\n",
    "Suppose we adjust the weights of our portfolio to .5 and .5.\n",
    "\n",
    "Then the pool's spot price of ETH to BTC is \n",
    "\n",
    "$SP_{ETH}^{BTC} = \\frac{\\frac{B_{ETH}}{W_{ETH}}}{\\frac{B_{BTC}}{W_{BTC}}} = \\frac{\\frac{1000}{.5}}{\\frac{1000}{.5}} = 1$  (Give $1 ETH$, get $1 BTC$).\n",
    "\n",
    "\n",
    "As a response, the market will arbitrage by purchasing BTC from our pool until the pool's spot price returns to the market spot price (${SP_{MKT}}_{ETH}^{BTC} = 4$). The Balances of BTC and ETH held in the portfolio can be calculated by solving the following equations.\n",
    "\n",
    "${SP_{MKT}}_{ETH}^{BTC} = \\frac{{B_{ETH}}_{new}}{{B_{BTC}}_{new}}\\frac{W_{BTC}}{W_{ETH}}$ $~~~~~~~~$ (Spot price Equation)\n",
    "\n",
    "${B_{ETH}}_{new}^{W_{ETH}}{B_{BTC}}_{new}^{W_{BTC}} = {B_{ETH}}_{old}^{W_{ETH}}{B_{BTC}}_{old}^{W_{BTC}}$ $~~~~~~~~$ (Balancer Invariant Equation)\n",
    "\n",
    "\n",
    "We have two unknowns, ${B_{ETH}}_{new}$ and ${B_{BTC}}_{new}$. The rest of the variables are known --\n",
    " \n",
    "* ${SP_{MKT}}_{ETH}^{BTC} = 4$ Market Spot Price\n",
    "* $W_{BTC} = .5$ Weight of BTC Token\n",
    "* $W_{ETH} = .5$ Weight of ETH Token\n",
    "* ${B_{BTC}}_{old} = 1000$ Balance of BTC Token (pre-arbitrage)\n",
    "* ${B_{ETH}}_{old} = 1000$ Balance of ETH Token (pre-arbitrage)\n",
    "\n",
    "Plugging our values into these two equations we get:\n",
    "\n",
    "$4 =  \\frac{{B_{ETH}}_{new}}{{B_{BTC}}_{new}} \\frac{.5}{.5}$\n",
    "\n",
    "${B_{ETH}}_{new}^{.5}{B_{BTC}}_{new}^{.5} = 1000^{.5} 1000^{.5}$ \n",
    "\n",
    "Solving For ${B_{ETH}}_{new}$ in each equation gives\n",
    "\n",
    "${B_{ETH}}_{new} = 4 {B_{BTC}}_{new}$\n",
    "\n",
    "${B_{ETH}}_{new} = \\frac{10^6}{{B_{BTC}}_{new}} $\n",
    "\n",
    "We can then solve for ${B_{BTC}}_{new}$ to get ${B_{BTC}}_{new} = 500$ , and then plug in the result to get ${B_{ETH}}_{new} = 2000$"
   ]
  },
  {
   "cell_type": "markdown",
   "id": "2fb3b829-7a9f-4f26-b455-29239d18aed4",
   "metadata": {},
   "source": [
    "# General N-token Solution"
   ]
  },
  {
   "cell_type": "markdown",
   "id": "de622637-3e3a-4090-a2ec-ac526798b30d",
   "metadata": {},
   "source": [
    "Assume we have n tokens indexed $1,...,n$. \n",
    "\n",
    "Assume we have the initial balances of each token, represented by ${B_1}_{old},...,{B_n}_{old}$\n",
    "\n",
    "Assume we have the market spot prices from token $1$ to each of the other $n-1$ tokens. ${SP_{MKT}}_1^k$ for $k\\in 2,...,n$. \n",
    "\n",
    "Suppose we hold ${B_1}_{old},...,{B_n}_{old}$ balances of token $1$,...,token $n$ respectively.\n",
    "\n",
    "Suppose we set the weights of our portfolio to $W_1,...,W_n$ where $\\sum_{j=1}^n W_j = 1$. \n",
    "\n",
    "Let $C = \\Pi_{j=1}^n {B_j}_{old}^{W_j}$ be the invariant constant.\n",
    "\n",
    "Assume that the market spot price remains constant throughout the arbitrage. We will show that the new balances of each token in the portfolio are \n",
    "\n",
    "${B_1}_{new} = C\\cdot \\Pi_{j=2}^n ({SP_{MKT}}_1^j \\frac{W_1}{W_j})^{W_j}  $ \n",
    "\n",
    "\n",
    "and ${B_k}_{new} = \\frac{{B_1}_{new}}{{SP_{MKT}}_1^k} \\frac{W_k}{W_1}$ for $k \\in {2,...,n}$\n"
   ]
  },
  {
   "cell_type": "markdown",
   "id": "7b569e9f-fee2-43f3-a36e-261caa173a4d",
   "metadata": {},
   "source": [
    "# Proof"
   ]
  },
  {
   "cell_type": "markdown",
   "id": "5e60a668-5e4a-4857-a3eb-8952964e84f4",
   "metadata": {},
   "source": [
    "As in our example, we have a system of $n$ equations and $n$ unknowns.\n",
    "\n",
    "Explicity, We have $n-1$ market spot price equations, and $1$ invariant equation.\n",
    "\n",
    "${SP_{MKT}}_1^k = \\frac{{B_1}_{new}}{{B_k}_{new}} \\frac{W_k}{W_1}$ for $k \\in {2,...,n}$\n",
    "\n",
    "and\n",
    "\n",
    "$\\Pi_{j=1}^n {B_j}_{new}^{W_j} = \\Pi_{j=1}^n {B_j}_{old}^{W_j}$\n",
    "\n",
    "\n",
    "First, we can solve for ${B_k}_{new}$ in the $n-1$ market spot price equations to get \n",
    "\n",
    "${B_k}_{new} = \\frac{{B_1}_{new}}{{SP_{MKT}}_1^k }\\frac{W_k}{W_1}$\n",
    "\n",
    "Notice that the only unknown in this family of equations is ${B_1}_{new}$.\n",
    "\n",
    "We now solve for ${B_1}_{new}$. Starting from the invariant equation, we get\n",
    "\n",
    "$\\Pi_{j=1}^n {B_j}_{new}^{W_j} = C$\n",
    "\n",
    "${B_1}_{new}^{W_1} = \\frac{C} {\\Pi_{j=2}^n {B_j}_{new}^{W_j}}$\n",
    "\n",
    "${B_1}_{new}^{W_1} = \\frac{C} {\\Pi_{j=2}^n (\\frac{{B_1}_{new}}{{SP_{MKT}}_1^j }\\frac{W_j}{W_1})^{W_j}}$\n",
    "\n",
    "${B_1}_{new}^{W_1} = \\frac{C \\cdot \\Pi_{j=2}^n ({SP_{MKT}}_1^j \\frac{W_1}{W_j})^{W_j}} { \\Pi_{j=2}^n {B_1}_{new}^{W_j}}  $\n",
    "\n",
    "${B_1}_{new}^{\\sum_{j=1}^n W_j} = C \\cdot \\Pi_{j=2}^n ({SP_{MKT}}_1^j \\frac{W_1}{W_j})^{W_j}  $ (Recall that $\\sum_{j=1}^n W_j = 1$ by construction)\n",
    "\n",
    "${B_1}_{new} = C\\cdot \\Pi_{j=2}^n ({SP_{MKT}}_1^j \\frac{W_1}{W_j})^{W_j}  $ \n",
    "\n",
    "\n",
    "We can then substitute the value of ${B_1}_{new}$ to get each ${B_k}_{new}$"
   ]
  },
  {
   "cell_type": "code",
   "execution_count": null,
   "id": "9c4dbfa6-7cd8-4d9b-8e2a-53b79801330f",
   "metadata": {},
   "outputs": [],
   "source": []
  },
  {
   "cell_type": "code",
   "execution_count": null,
   "id": "ab03d760-4267-46c2-b364-6486a6fbcce7",
   "metadata": {},
   "outputs": [],
   "source": []
  },
  {
   "cell_type": "code",
   "execution_count": null,
   "id": "ff0e2df2-4016-4eb4-be00-34cbd188ecec",
   "metadata": {},
   "outputs": [],
   "source": []
  },
  {
   "cell_type": "markdown",
   "id": "cf91cffe-291e-4d84-8903-6964ffbf3268",
   "metadata": {},
   "source": [
    "# Spreadsheet Link\n",
    "https://docs.google.com/spreadsheets/d/16QjW7IlNXxXYJ8IE5Dla7CW6mu0qGsuQ-ZAHnzpsV7k/edit#gid=0"
   ]
  },
  {
   "cell_type": "markdown",
   "id": "f9eeb93e-9e66-4bf9-9db7-5163d960adf2",
   "metadata": {},
   "source": [
    "# Code"
   ]
  },
  {
   "cell_type": "code",
   "execution_count": 26,
   "id": "8830cdf1-c6f0-4744-aefa-3b183c77335b",
   "metadata": {},
   "outputs": [],
   "source": [
    "import numpy as np"
   ]
  },
  {
   "cell_type": "code",
   "execution_count": 52,
   "id": "d774659f-3d01-4e4b-a4f9-935ffe39b830",
   "metadata": {},
   "outputs": [],
   "source": [
    "def calc_new_balances(mkt_sp_vec,balance_old_vec,weights_new_vec):\n",
    "    '''\n",
    "    Suppose there are n tokens. Recall that tokens are indexed from 1 to n (and not 0 to n-1).\n",
    "    \n",
    "    Inputs:\n",
    "    mkt_sp_vec: a n-1 length np.array whose i'th index represents the market spot price from the 1st token to the i+2'th token.\n",
    "        e.g 0th index represents spot price from token 1 to token 2, 1st index represents spot price from token 1 to token 3, n-2th index represents spot price form token 1 to token n.\n",
    "    balance_old_vec: a n-length np array whose i'th index represents the pre-arbitrage balance of token i+1\n",
    "    weights_new_vec: a n-length np array whose i'th index represents the new weights of token i+1\n",
    "\n",
    "    '''\n",
    "    \n",
    "    invariant_c = np.product(np.power(balance_old_vec,weights_new_vec))\n",
    "    #print('invariant_c',invariant_c)\n",
    "    #print(mkt_sp_vec * weights_new_vec[0])\n",
    "    \n",
    "    B_1_new = invariant_c * np.product(np.power(mkt_sp_vec * weights_new_vec[0] / weights_new_vec[1:], weights_new_vec[1:])) # should be length 1 /scalar\n",
    "    #print('B_1_new',B_1_new)\n",
    "    \n",
    "    B_k_new_vec = B_1_new / mkt_sp_vec * weights_new_vec[1:] / weights_new_vec[0] #should be length n-1\n",
    "    #print(len(B_k_new_vec))\n",
    "    \n",
    "    balance_new_vec =  np.concatenate([np.array([B_1_new]), B_k_new_vec])\n",
    "    #print(balance_new_vec)\n",
    "    \n",
    "    return balance_new_vec\n",
    "    \n",
    "    \n",
    "    \n",
    "    \n",
    "    "
   ]
  },
  {
   "cell_type": "code",
   "execution_count": 61,
   "id": "5a40d3f0-4e45-406d-87f5-0a7144956ea2",
   "metadata": {},
   "outputs": [],
   "source": [
    "mkt_sp_vec = np.array([.25])\n",
    "balance_old_vec = np.array([1000,2000])\n",
    "#weights_old_vec = np.array([2/3,1/3])\n",
    "weights_new_vec1 = np.array([.6,.4])\n",
    "weights_new_vec2 = np.array([.5,.5])"
   ]
  },
  {
   "cell_type": "code",
   "execution_count": 62,
   "id": "ad0997ff-984f-4b52-a846-60e56dd53392",
   "metadata": {},
   "outputs": [],
   "source": [
    "balances_after_1_vec = calc_new_balances(mkt_sp_vec,balance_old_vec,weights_new_vec1)\n",
    "balances_after_2_vec = calc_new_balances(mkt_sp_vec,balances_after_1_vec,weights_new_vec2)"
   ]
  },
  {
   "cell_type": "code",
   "execution_count": 63,
   "id": "39c602ca-c82f-4d89-adda-ce151004781a",
   "metadata": {},
   "outputs": [
    {
     "data": {
      "text/plain": [
       "array([ 891.30122898, 2376.80327729])"
      ]
     },
     "execution_count": 63,
     "metadata": {},
     "output_type": "execute_result"
    }
   ],
   "source": [
    "balances_after_1_vec"
   ]
  },
  {
   "cell_type": "code",
   "execution_count": 64,
   "id": "908fbcc2-8fb0-4d65-b285-0446b8069c59",
   "metadata": {},
   "outputs": [
    {
     "data": {
      "text/plain": [
       "array([ 727.74440604, 2910.97762417])"
      ]
     },
     "execution_count": 64,
     "metadata": {},
     "output_type": "execute_result"
    }
   ],
   "source": [
    "balances_after_2_vec"
   ]
  },
  {
   "cell_type": "code",
   "execution_count": null,
   "id": "b96879b2-0ac1-4173-a1ae-df76e1e469ec",
   "metadata": {},
   "outputs": [],
   "source": []
  },
  {
   "cell_type": "code",
   "execution_count": null,
   "id": "804e6d55-250e-4aaf-ba6c-3a6366f9cb09",
   "metadata": {},
   "outputs": [],
   "source": []
  },
  {
   "cell_type": "code",
   "execution_count": null,
   "id": "6e9ff2b8-9187-4389-8564-08c5510a515a",
   "metadata": {},
   "outputs": [],
   "source": []
  }
 ],
 "metadata": {
  "kernelspec": {
   "display_name": "Python 3 (ipykernel)",
   "language": "python",
   "name": "python3"
  },
  "language_info": {
   "codemirror_mode": {
    "name": "ipython",
    "version": 3
   },
   "file_extension": ".py",
   "mimetype": "text/x-python",
   "name": "python",
   "nbconvert_exporter": "python",
   "pygments_lexer": "ipython3",
   "version": "3.9.7"
  }
 },
 "nbformat": 4,
 "nbformat_minor": 5
}
